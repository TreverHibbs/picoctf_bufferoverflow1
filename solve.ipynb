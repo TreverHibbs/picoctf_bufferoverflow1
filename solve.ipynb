{
 "cells": [
  {
   "cell_type": "markdown",
   "metadata": {
    "slideshow": {
     "slide_type": "slide"
    }
   },
   "source": [
    "Big-endian is an order in which the \"big end\" (most significant value in the sequence) is stored first (at the lowest storage address). \n",
    "\n",
    "Little-endian is an order in which the \"little end\" (least significant value in the sequence) is stored first. \n",
    "\n",
    "For example, in a big-endian computer, the two bytes required for the hexadecimal number 4F52 would be stored as 4F52 in storage (if 4F is stored at storage address 1000, for example, 52 will be at address 1001). In a little-endian system, it would be stored as 524F (52 at address 1000, 4F at 1001)."
   ]
  },
  {
   "cell_type": "code",
   "execution_count": 2,
   "metadata": {
    "slideshow": {
     "slide_type": "slide"
    }
   },
   "outputs": [
    {
     "ename": "SyntaxError",
     "evalue": "invalid syntax (<ipython-input-2-3f9b849e1e6b>, line 11)",
     "output_type": "error",
     "traceback": [
      "\u001b[0;36m  File \u001b[0;32m\"<ipython-input-2-3f9b849e1e6b>\"\u001b[0;36m, line \u001b[0;32m11\u001b[0m\n\u001b[0;31m    void win() {\u001b[0m\n\u001b[0m           ^\u001b[0m\n\u001b[0;31mSyntaxError\u001b[0m\u001b[0;31m:\u001b[0m invalid syntax\n"
     ]
    }
   ],
   "source": [
    "#include <stdio.h>\n",
    "#include <stdlib.h>\n",
    "#include <string.h>\n",
    "#include <unistd.h>\n",
    "#include <sys/types.h>\n",
    "#include \"asm.h\"\n",
    "\n",
    "#define BUFSIZE 32\n",
    "#define FLAGSIZE 64\n",
    "\n",
    "void win() {\n",
    "  char buf[FLAGSIZE];\n",
    "  FILE *f = fopen(\"flag.txt\",\"r\");\n",
    "  if (f == NULL) {\n",
    "    printf(\"Flag File is Missing. Problem is Misconfigured, please contact an Admin if you are running this on the shell server.\\n\");\n",
    "    exit(0);\n",
    "  }\n",
    "\n",
    "  fgets(buf,FLAGSIZE,f);\n",
    "  printf(buf);\n",
    "}\n",
    "\n",
    "void vuln(){\n",
    "  char buf[BUFSIZE];\n",
    "  gets(buf);\n",
    "\n",
    "  printf(\"Okay, time to return... Fingers Crossed... Jumping to 0x%x\\n\", get_return_address());\n",
    "}\n",
    "\n",
    "int main(int argc, char **argv){\n",
    "\n",
    "  setvbuf(stdout, NULL, _IONBF, 0);\n",
    "  \n",
    "  gid_t gid = getegid();\n",
    "  setresgid(gid, gid, gid);\n",
    "\n",
    "  puts(\"Please enter your string: \");\n",
    "  vuln();\n",
    "  return 0;\n",
    "}"
   ]
  },
  {
   "cell_type": "markdown",
   "metadata": {
    "slideshow": {
     "slide_type": "-"
    }
   },
   "source": [
    "setvbuf(stdout, NULL, _IONBF, 0);\n",
    "\n",
    "This first function call will set stdout's buffering type to unbuffered.\n",
    "\n",
    "This means that anything written to stdout will imedialty be written to stdout. \n",
    "This bypasses the usual line buffering that is the default behavior."
   ]
  },
  {
   "cell_type": "markdown",
   "metadata": {},
   "source": [
    "gid_t gid = getegid();\n",
    "setresgid(gid, gid, gid);\n",
    "\n",
    "getegid() gets the effective group id of the calling proccess.\n",
    "\n",
    "setresgid() sets the real GID, effective GID, and saved set-group-ID \n",
    "of the calling process (andalways  modifies  the  filesystem  GID  \n",
    "to be the same as the effective GID), with the same  restrictions \n",
    "for unprivileged processes.\n"
   ]
  },
  {
   "cell_type": "code",
   "execution_count": null,
   "metadata": {},
   "outputs": [],
   "source": []
  }
 ],
 "metadata": {
  "celltoolbar": "Slideshow",
  "kernelspec": {
   "display_name": "Python 3",
   "language": "python",
   "name": "python3"
  },
  "language_info": {
   "codemirror_mode": {
    "name": "ipython",
    "version": 3
   },
   "file_extension": ".py",
   "mimetype": "text/x-python",
   "name": "python",
   "nbconvert_exporter": "python",
   "pygments_lexer": "ipython3",
   "version": "3.7.6"
  }
 },
 "nbformat": 4,
 "nbformat_minor": 4
}
