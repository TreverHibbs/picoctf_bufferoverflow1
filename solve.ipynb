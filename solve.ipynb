{
 "cells": [
  {
   "cell_type": "markdown",
   "metadata": {
    "slideshow": {
     "slide_type": "slide"
    }
   },
   "source": [
    "Big-endian is an order in which the \"big end\" (most significant value in the sequence) is stored first (at the lowest storage address). \n",
    "\n",
    "Little-endian is an order in which the \"little end\" (least significant value in the sequence) is stored first. \n",
    "\n",
    "For example, in a big-endian computer, the two bytes required for the hexadecimal number 4F52 would be stored as 4F52 in storage (if 4F is stored at storage address 1000, for example, 52 will be at address 1001). In a little-endian system, it would be stored as 524F (52 at address 1000, 4F at 1001)."
   ]
  },
  {
   "cell_type": "markdown",
   "metadata": {
    "slideshow": {
     "slide_type": "slide"
    }
   },
   "source": [
    "#include <stdio.h>\n",
    "#include <stdlib.h>\n",
    "#include <string.h>\n",
    "#include <unistd.h>\n",
    "#include <sys/types.h>\n",
    "#include \"asm.h\"\n",
    "\n",
    "#define BUFSIZE 32\n",
    "#define FLAGSIZE 64\n",
    "\n",
    "void win() {\n",
    "  char buf[FLAGSIZE];\n",
    "  FILE *f = fopen(\"flag.txt\",\"r\");\n",
    "  if (f == NULL) {\n",
    "    printf(\"Flag File is Missing. Problem is Misconfigured, please contact an Admin if you are running this on the shell server.\\n\");\n",
    "    exit(0);\n",
    "  }\n",
    "\n",
    "  fgets(buf,FLAGSIZE,f);\n",
    "  printf(buf);\n",
    "}\n",
    "\n",
    "void vuln(){\n",
    "  char buf[BUFSIZE];\n",
    "  gets(buf);\n",
    "\n",
    "  printf(\"Okay, time to return... Fingers Crossed... Jumping to 0x%x\\n\", get_return_address());\n",
    "}\n",
    "\n",
    "int main(int argc, char **argv){\n",
    "\n",
    "  setvbuf(stdout, NULL, _IONBF, 0);\n",
    "  \n",
    "  gid_t gid = getegid();\n",
    "  setresgid(gid, gid, gid);\n",
    "\n",
    "  puts(\"Please enter your string: \");\n",
    "  vuln();\n",
    "  return 0;\n",
    "}"
   ]
  },
  {
   "cell_type": "markdown",
   "metadata": {
    "slideshow": {
     "slide_type": "-"
    }
   },
   "source": [
    "setvbuf(stdout, NULL, _IONBF, 0);\n",
    "\n",
    "This first function call will set stdout's buffering type to unbuffered.\n",
    "\n",
    "This means that anything written to stdout will imedialty be written to stdout. \n",
    "This bypasses the usual line buffering that is the default behavior."
   ]
  },
  {
   "cell_type": "markdown",
   "metadata": {},
   "source": [
    "gid_t gid = getegid();<br>\n",
    "setresgid(gid, gid, gid);\n",
    "\n",
    "getegid() gets the effective group id of the calling proccess.\n",
    "\n",
    "setresgid() sets the real GID, effective GID, and saved set-group-ID \n",
    "of the calling process (andalways  modifies  the  filesystem  GID  \n",
    "to be the same as the effective GID), with the same  restrictions \n",
    "for unprivileged processes.\n"
   ]
  },
  {
   "cell_type": "markdown",
   "metadata": {},
   "source": [
    "We'll need to know some stuff about assembly.\n",
    "\n",
    "The __lea__ (load effective address) instruction is used to put a memory address into the destination.\n",
    "\n",
    "The __push__ instruction is used to push values on the stack.\n",
    "\n",
    "__eax__ is a 32-bit general-purpose register with two common uses: to store the return value of a function and as a special register for certain calculations. It is technically a volatile register, since the value isn't preserved. Instead, its value is set to the return value of a function before a function returns."
   ]
  },
  {
   "cell_type": "markdown",
   "metadata": {},
   "source": [
    "\n",
    "Memory Layout of a C program\n",
    "\n",
    "Vissualization: http://i.stack.imgur.com/1Yz9K.gif\n",
    "\n",
    "![alt text](http://i.stack.imgur.com/1Yz9K.gif \"BIG STACK\")\n",
    "\n",
    "    Command line arguments and environment variables: The arguments passed to a program before running and the environment variables are stored in this section.\n",
    "\n",
    "    Stack: This is the place where all the function parameters, return addresses and the local variables of the function are stored. It’s a LIFO structure. It grows downward in memory(from higher address space to lower address space) as new function calls are made. We will examine the stack in more detail later.\n",
    "\n",
    "    Heap: All the dynamically allocated memory resides here. Whenever we use malloc to get memory dynamically, it is allocated from the heap. The heap grows upwards in memory(from lower to higher memory addresses) as more and more memory is required.\n",
    "\n",
    "    Uninitialized data(Bss Segment): All the uninitialized data is stored here. This consists of all global and static variables which are not initialized by the programmer. The kernel initializes them to arithmetic 0 by default.\n",
    "\n",
    "    Initialized data(Data Segment): All the initialized data is stored here. This constists of all global and static variables which are initialised by the programmer.\n",
    "\n",
    "    Text: This is the section where the executable code is stored. The loader loads instructions from here and executes them. It is often read only.\n"
   ]
  },
  {
   "cell_type": "markdown",
   "metadata": {},
   "source": [
    "Registers to know\n",
    "\n",
    "\n",
    "\n",
    "__%eip:__ The Instruction pointer register. It stores the address of the next instruction to be executed. After every instruction execution it’s value is incremented depending upon the size of an instrution.\n",
    "\n",
    "__%esp:__ The Stack pointer register. It stores the address of the top of the stack. This is the address of the last element on the stack. The stack grows downward in memory(from higher address values to lower address values). So the %esp points to the value in stack at the lowest memory address.\n",
    "\n",
    "__%ebp:__ The Base pointer register. The %ebp register usually set to %esp at the start of the function. This is done to keep tab of function parameters and local variables. Local variables are accessed by subtracting offsets from %ebp and function parameters are accessed by adding offsets to it.\n"
   ]
  }
 ],
 "metadata": {
  "celltoolbar": "Slideshow",
  "kernelspec": {
   "display_name": "Python 3",
   "language": "python",
   "name": "python3"
  },
  "language_info": {
   "codemirror_mode": {
    "name": "ipython",
    "version": 3
   },
   "file_extension": ".py",
   "mimetype": "text/x-python",
   "name": "python",
   "nbconvert_exporter": "python",
   "pygments_lexer": "ipython3",
   "version": "3.8.1"
  }
 },
 "nbformat": 4,
 "nbformat_minor": 4
}
